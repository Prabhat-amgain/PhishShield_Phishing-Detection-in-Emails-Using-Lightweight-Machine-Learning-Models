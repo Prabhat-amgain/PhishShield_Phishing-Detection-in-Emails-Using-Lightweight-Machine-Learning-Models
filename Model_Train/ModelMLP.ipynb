{
 "cells": [
  {
   "cell_type": "code",
   "execution_count": 1,
   "id": "dcd15c2c-0f76-4e25-b45a-7a7084d92d49",
   "metadata": {},
   "outputs": [],
   "source": [
    "import pandas as pd\n",
    "import pickle\n",
    "from scipy.sparse import hstack\n",
    "from sklearn.model_selection import train_test_split\n",
    "from sklearn.neural_network import MLPClassifier\n",
    "from sklearn.metrics import classification_report, confusion_matrix, ConfusionMatrixDisplay"
   ]
  },
  {
   "cell_type": "code",
   "execution_count": 2,
   "id": "cb232445-7fe5-4244-b363-4a8bb4fbaf72",
   "metadata": {},
   "outputs": [],
   "source": [
    "with open('tfidf_vectorizer.pkl', 'rb') as f:\n",
    "    tfidf = pickle.load(f)\n",
    "\n",
    "with open('onehot_encoder.pkl', 'rb') as f:\n",
    "    encoder = pickle.load(f)\n",
    "\n",
    "with open('scaler.pkl', 'rb') as f:\n",
    "    scaler = pickle.load(f)"
   ]
  },
  {
   "cell_type": "code",
   "execution_count": 4,
   "id": "e527af14-eb7f-4b08-985c-2a554ed5645c",
   "metadata": {},
   "outputs": [],
   "source": [
    "df = pd.read_csv('cleanformodels.csv')"
   ]
  },
  {
   "cell_type": "code",
   "execution_count": 5,
   "id": "5abe3737-96c0-43b2-8895-5caa41a082d0",
   "metadata": {},
   "outputs": [],
   "source": [
    "X_text = tfidf.transform(df['text'])\n",
    "\n",
    "# Categorical (One-hot)\n",
    "cat_features = ['sender_username', 'sender_domain']\n",
    "X_cat = encoder.transform(df[cat_features])\n",
    "\n",
    "# Numeric (url, hour, day_of_the_week)\n",
    "num_features = ['urls', 'hour', 'day_of_week']\n",
    "X_num = scaler.transform(df[num_features])"
   ]
  },
  {
   "cell_type": "code",
   "execution_count": 6,
   "id": "8e4b70e6-f788-4b92-9a69-7dce60920970",
   "metadata": {},
   "outputs": [],
   "source": [
    "X = hstack([X_text, X_cat, X_num])\n",
    "y = df['label']"
   ]
  },
  {
   "cell_type": "code",
   "execution_count": 7,
   "id": "63e68fac-dd26-499f-87a3-34077465a63b",
   "metadata": {},
   "outputs": [],
   "source": [
    "X_train, X_test, y_train, y_test = train_test_split(X, y, test_size=0.2, random_state=42)"
   ]
  },
  {
   "cell_type": "code",
   "execution_count": 8,
   "id": "4f372d05-eb9d-4614-806b-138f82a46c18",
   "metadata": {},
   "outputs": [
    {
     "name": "stdout",
     "output_type": "stream",
     "text": [
      "              precision    recall  f1-score   support\n",
      "\n",
      "           0       1.00      1.00      1.00      3489\n",
      "           1       1.00      1.00      1.00      4144\n",
      "\n",
      "    accuracy                           1.00      7633\n",
      "   macro avg       1.00      1.00      1.00      7633\n",
      "weighted avg       1.00      1.00      1.00      7633\n",
      "\n",
      "[[3479   10]\n",
      " [   3 4141]]\n"
     ]
    }
   ],
   "source": [
    "mlp = MLPClassifier(hidden_layer_sizes=(100, 50), max_iter=300, random_state=42)\n",
    "mlp.fit(X_train, y_train)\n",
    "\n",
    "# --- 5. Evaluate ---\n",
    "y_pred = mlp.predict(X_test)\n",
    "print(classification_report(y_test, y_pred))\n",
    "\n",
    "print(confusion_matrix(y_test, y_pred, labels=mlp.classes_))"
   ]
  },
  {
   "cell_type": "code",
   "execution_count": 9,
   "id": "c2bf013f-976b-45fe-8b84-0172731f36ca",
   "metadata": {},
   "outputs": [],
   "source": [
    "with open('mlp_model.pkl', 'wb') as f:\n",
    "    pickle.dump(mlp, f)"
   ]
  },
  {
   "cell_type": "code",
   "execution_count": null,
   "id": "a77890e8-ac4f-4bce-b4a6-a5b6865a3c1d",
   "metadata": {},
   "outputs": [],
   "source": []
  }
 ],
 "metadata": {
  "kernelspec": {
   "display_name": "Python 3 (ipykernel)",
   "language": "python",
   "name": "python3"
  },
  "language_info": {
   "codemirror_mode": {
    "name": "ipython",
    "version": 3
   },
   "file_extension": ".py",
   "mimetype": "text/x-python",
   "name": "python",
   "nbconvert_exporter": "python",
   "pygments_lexer": "ipython3",
   "version": "3.12.7"
  }
 },
 "nbformat": 4,
 "nbformat_minor": 5
}
